{
 "cells": [
  {
   "cell_type": "code",
   "execution_count": 1,
   "id": "f784cdc0",
   "metadata": {},
   "outputs": [],
   "source": [
    "import pandas as pd\n",
    "import numpy as np\n",
    "\n",
    "df = pd.read_csv('q5.csv', dtype='unicode')"
   ]
  },
  {
   "cell_type": "code",
   "execution_count": 2,
   "id": "868c6426",
   "metadata": {},
   "outputs": [],
   "source": [
    "df = df.drop(df.columns[0], axis=1)"
   ]
  },
  {
   "cell_type": "code",
   "execution_count": 3,
   "id": "607cc689",
   "metadata": {},
   "outputs": [
    {
     "data": {
      "text/plain": [
       "(8218, 21)"
      ]
     },
     "execution_count": 3,
     "metadata": {},
     "output_type": "execute_result"
    }
   ],
   "source": [
    "df.shape"
   ]
  },
  {
   "cell_type": "code",
   "execution_count": 4,
   "id": "14ee2473",
   "metadata": {
    "scrolled": true
   },
   "outputs": [
    {
     "data": {
      "text/plain": [
       "Index(['Accident_Severity', 'Number_of_Vehicles', 'Number_of_Casualties',\n",
       "       'Date', 'Day_of_Week', 'Time', 'Road_Type', 'Speed_limit',\n",
       "       'Junction_Detail', 'Junction_Control', 'Light_Conditions',\n",
       "       'Weather_Conditions', 'Road_Surface_Conditions', 'Urban_or_Rural_Area',\n",
       "       'Year', 'Hour', 'Rush_Hour', 'Speed_Classification', 'Month',\n",
       "       'light_group', 'Junction_group'],\n",
       "      dtype='object')"
      ]
     },
     "execution_count": 4,
     "metadata": {},
     "output_type": "execute_result"
    }
   ],
   "source": [
    "df.columns"
   ]
  },
  {
   "cell_type": "code",
   "execution_count": 5,
   "id": "1e5da32e",
   "metadata": {
    "scrolled": false
   },
   "outputs": [
    {
     "data": {
      "text/html": [
       "<div>\n",
       "<style scoped>\n",
       "    .dataframe tbody tr th:only-of-type {\n",
       "        vertical-align: middle;\n",
       "    }\n",
       "\n",
       "    .dataframe tbody tr th {\n",
       "        vertical-align: top;\n",
       "    }\n",
       "\n",
       "    .dataframe thead th {\n",
       "        text-align: right;\n",
       "    }\n",
       "</style>\n",
       "<table border=\"1\" class=\"dataframe\">\n",
       "  <thead>\n",
       "    <tr style=\"text-align: right;\">\n",
       "      <th></th>\n",
       "      <th>Accident_Severity</th>\n",
       "      <th>Number_of_Vehicles</th>\n",
       "      <th>Number_of_Casualties</th>\n",
       "      <th>Date</th>\n",
       "      <th>Day_of_Week</th>\n",
       "      <th>Time</th>\n",
       "      <th>Road_Type</th>\n",
       "      <th>Speed_limit</th>\n",
       "      <th>Junction_Detail</th>\n",
       "      <th>Junction_Control</th>\n",
       "      <th>...</th>\n",
       "      <th>Weather_Conditions</th>\n",
       "      <th>Road_Surface_Conditions</th>\n",
       "      <th>Urban_or_Rural_Area</th>\n",
       "      <th>Year</th>\n",
       "      <th>Hour</th>\n",
       "      <th>Rush_Hour</th>\n",
       "      <th>Speed_Classification</th>\n",
       "      <th>Month</th>\n",
       "      <th>light_group</th>\n",
       "      <th>Junction_group</th>\n",
       "    </tr>\n",
       "  </thead>\n",
       "  <tbody>\n",
       "    <tr>\n",
       "      <th>0</th>\n",
       "      <td>3</td>\n",
       "      <td>2</td>\n",
       "      <td>1</td>\n",
       "      <td>29/09/2009</td>\n",
       "      <td>3</td>\n",
       "      <td>18:05</td>\n",
       "      <td>Dual carriageway</td>\n",
       "      <td>70</td>\n",
       "      <td>NaN</td>\n",
       "      <td>NaN</td>\n",
       "      <td>...</td>\n",
       "      <td>Fine without high winds</td>\n",
       "      <td>Dry</td>\n",
       "      <td>1</td>\n",
       "      <td>2009</td>\n",
       "      <td>18</td>\n",
       "      <td>1</td>\n",
       "      <td>Highway</td>\n",
       "      <td>9</td>\n",
       "      <td>1.0</td>\n",
       "      <td>NaN</td>\n",
       "    </tr>\n",
       "    <tr>\n",
       "      <th>1</th>\n",
       "      <td>2</td>\n",
       "      <td>2</td>\n",
       "      <td>2</td>\n",
       "      <td>01/05/2009</td>\n",
       "      <td>6</td>\n",
       "      <td>15:55</td>\n",
       "      <td>Dual carriageway</td>\n",
       "      <td>60</td>\n",
       "      <td>NaN</td>\n",
       "      <td>NaN</td>\n",
       "      <td>...</td>\n",
       "      <td>Fine without high winds</td>\n",
       "      <td>Dry</td>\n",
       "      <td>1</td>\n",
       "      <td>2009</td>\n",
       "      <td>15</td>\n",
       "      <td>0</td>\n",
       "      <td>Highway</td>\n",
       "      <td>5</td>\n",
       "      <td>1.0</td>\n",
       "      <td>NaN</td>\n",
       "    </tr>\n",
       "    <tr>\n",
       "      <th>2</th>\n",
       "      <td>3</td>\n",
       "      <td>2</td>\n",
       "      <td>1</td>\n",
       "      <td>05/09/2009</td>\n",
       "      <td>7</td>\n",
       "      <td>17:00</td>\n",
       "      <td>Slip road</td>\n",
       "      <td>70</td>\n",
       "      <td>NaN</td>\n",
       "      <td>Giveway or uncontrolled</td>\n",
       "      <td>...</td>\n",
       "      <td>Fine without high winds</td>\n",
       "      <td>Dry</td>\n",
       "      <td>1</td>\n",
       "      <td>2009</td>\n",
       "      <td>17</td>\n",
       "      <td>0</td>\n",
       "      <td>Highway</td>\n",
       "      <td>9</td>\n",
       "      <td>1.0</td>\n",
       "      <td>NaN</td>\n",
       "    </tr>\n",
       "    <tr>\n",
       "      <th>3</th>\n",
       "      <td>3</td>\n",
       "      <td>4</td>\n",
       "      <td>1</td>\n",
       "      <td>29/04/2009</td>\n",
       "      <td>4</td>\n",
       "      <td>12:36</td>\n",
       "      <td>Dual carriageway</td>\n",
       "      <td>60</td>\n",
       "      <td>NaN</td>\n",
       "      <td>Giveway or uncontrolled</td>\n",
       "      <td>...</td>\n",
       "      <td>Fine without high winds</td>\n",
       "      <td>Dry</td>\n",
       "      <td>1</td>\n",
       "      <td>2009</td>\n",
       "      <td>12</td>\n",
       "      <td>0</td>\n",
       "      <td>Highway</td>\n",
       "      <td>4</td>\n",
       "      <td>1.0</td>\n",
       "      <td>NaN</td>\n",
       "    </tr>\n",
       "    <tr>\n",
       "      <th>4</th>\n",
       "      <td>3</td>\n",
       "      <td>2</td>\n",
       "      <td>3</td>\n",
       "      <td>22/04/2009</td>\n",
       "      <td>4</td>\n",
       "      <td>07:55</td>\n",
       "      <td>Dual carriageway</td>\n",
       "      <td>70</td>\n",
       "      <td>NaN</td>\n",
       "      <td>NaN</td>\n",
       "      <td>...</td>\n",
       "      <td>Fine without high winds</td>\n",
       "      <td>Dry</td>\n",
       "      <td>1</td>\n",
       "      <td>2009</td>\n",
       "      <td>7</td>\n",
       "      <td>1</td>\n",
       "      <td>Highway</td>\n",
       "      <td>4</td>\n",
       "      <td>1.0</td>\n",
       "      <td>NaN</td>\n",
       "    </tr>\n",
       "  </tbody>\n",
       "</table>\n",
       "<p>5 rows × 21 columns</p>\n",
       "</div>"
      ],
      "text/plain": [
       "  Accident_Severity Number_of_Vehicles Number_of_Casualties        Date  \\\n",
       "0                 3                  2                    1  29/09/2009   \n",
       "1                 2                  2                    2  01/05/2009   \n",
       "2                 3                  2                    1  05/09/2009   \n",
       "3                 3                  4                    1  29/04/2009   \n",
       "4                 3                  2                    3  22/04/2009   \n",
       "\n",
       "  Day_of_Week   Time         Road_Type Speed_limit Junction_Detail  \\\n",
       "0           3  18:05  Dual carriageway          70             NaN   \n",
       "1           6  15:55  Dual carriageway          60             NaN   \n",
       "2           7  17:00         Slip road          70             NaN   \n",
       "3           4  12:36  Dual carriageway          60             NaN   \n",
       "4           4  07:55  Dual carriageway          70             NaN   \n",
       "\n",
       "          Junction_Control  ...       Weather_Conditions  \\\n",
       "0                      NaN  ...  Fine without high winds   \n",
       "1                      NaN  ...  Fine without high winds   \n",
       "2  Giveway or uncontrolled  ...  Fine without high winds   \n",
       "3  Giveway or uncontrolled  ...  Fine without high winds   \n",
       "4                      NaN  ...  Fine without high winds   \n",
       "\n",
       "  Road_Surface_Conditions Urban_or_Rural_Area  Year Hour Rush_Hour  \\\n",
       "0                     Dry                   1  2009   18         1   \n",
       "1                     Dry                   1  2009   15         0   \n",
       "2                     Dry                   1  2009   17         0   \n",
       "3                     Dry                   1  2009   12         0   \n",
       "4                     Dry                   1  2009    7         1   \n",
       "\n",
       "  Speed_Classification Month light_group Junction_group  \n",
       "0              Highway     9         1.0            NaN  \n",
       "1              Highway     5         1.0            NaN  \n",
       "2              Highway     9         1.0            NaN  \n",
       "3              Highway     4         1.0            NaN  \n",
       "4              Highway     4         1.0            NaN  \n",
       "\n",
       "[5 rows x 21 columns]"
      ]
     },
     "execution_count": 5,
     "metadata": {},
     "output_type": "execute_result"
    }
   ],
   "source": [
    "df.head(5)"
   ]
  },
  {
   "cell_type": "code",
   "execution_count": 6,
   "id": "09fcf683",
   "metadata": {
    "scrolled": true
   },
   "outputs": [
    {
     "name": "stdout",
     "output_type": "stream",
     "text": [
      "     Year Hour  Count\n",
      "0    2009    0     18\n",
      "1    2009    1     13\n",
      "2    2009   10     67\n",
      "3    2009   11     61\n",
      "4    2009   12     90\n",
      "..    ...  ...    ...\n",
      "139  2014    5     15\n",
      "140  2014    6     26\n",
      "141  2014    7     69\n",
      "142  2014    8     91\n",
      "143  2014    9     69\n",
      "\n",
      "[144 rows x 3 columns]\n"
     ]
    }
   ],
   "source": [
    "hour_counts_by_year = df.groupby(['Year', 'Hour']).size().reset_index(name='Count')\n",
    "print(hour_counts_by_year)"
   ]
  },
  {
   "cell_type": "code",
   "execution_count": 7,
   "id": "38338ced",
   "metadata": {
    "scrolled": true
   },
   "outputs": [
    {
     "name": "stdout",
     "output_type": "stream",
     "text": [
      "F-Statistic: 113.78589690231327\n",
      "p-value: 2.0904201650348305e-70\n"
     ]
    }
   ],
   "source": [
    "from scipy.stats import f_oneway\n",
    "\n",
    "pivot_table = hour_counts_by_year.pivot(index='Year', columns='Hour', values='Count').fillna(0)\n",
    "\n",
    "anova_data = [pivot_table[hour].values for hour in pivot_table.columns]\n",
    "\n",
    "f_stat, p_value = f_oneway(*anova_data)\n",
    "\n",
    "print(f\"F-Statistic: {f_stat}\")\n",
    "print(f\"p-value: {p_value}\")"
   ]
  },
  {
   "cell_type": "code",
   "execution_count": 8,
   "id": "42ed1f3d",
   "metadata": {},
   "outputs": [
    {
     "data": {
      "text/html": [
       "<div>\n",
       "<style scoped>\n",
       "    .dataframe tbody tr th:only-of-type {\n",
       "        vertical-align: middle;\n",
       "    }\n",
       "\n",
       "    .dataframe tbody tr th {\n",
       "        vertical-align: top;\n",
       "    }\n",
       "\n",
       "    .dataframe thead th {\n",
       "        text-align: right;\n",
       "    }\n",
       "</style>\n",
       "<table border=\"1\" class=\"dataframe\">\n",
       "  <thead>\n",
       "    <tr style=\"text-align: right;\">\n",
       "      <th></th>\n",
       "      <th>sum_sq</th>\n",
       "      <th>df</th>\n",
       "      <th>F</th>\n",
       "      <th>PR(&gt;F)</th>\n",
       "    </tr>\n",
       "  </thead>\n",
       "  <tbody>\n",
       "    <tr>\n",
       "      <th>C(Hour)</th>\n",
       "      <td>244536.638889</td>\n",
       "      <td>23.0</td>\n",
       "      <td>113.785897</td>\n",
       "      <td>2.090420e-70</td>\n",
       "    </tr>\n",
       "    <tr>\n",
       "      <th>Residual</th>\n",
       "      <td>11212.666667</td>\n",
       "      <td>120.0</td>\n",
       "      <td>NaN</td>\n",
       "      <td>NaN</td>\n",
       "    </tr>\n",
       "  </tbody>\n",
       "</table>\n",
       "</div>"
      ],
      "text/plain": [
       "                 sum_sq     df           F        PR(>F)\n",
       "C(Hour)   244536.638889   23.0  113.785897  2.090420e-70\n",
       "Residual   11212.666667  120.0         NaN           NaN"
      ]
     },
     "execution_count": 8,
     "metadata": {},
     "output_type": "execute_result"
    }
   ],
   "source": [
    "import statsmodels.api as sm\n",
    "from statsmodels.formula.api import ols\n",
    "\n",
    "model = ols('Count ~ C(Hour)', data=hour_counts_by_year).fit()\n",
    "anova_table = sm.stats.anova_lm(model, typ=2)\n",
    "anova_table\n"
   ]
  },
  {
   "cell_type": "code",
   "execution_count": 9,
   "id": "99707ec8",
   "metadata": {},
   "outputs": [
    {
     "data": {
      "image/png": "[encoded data removed]",
      "text/plain": [
       "<Figure size 640x480 with 1 Axes>"
      ]
     },
     "metadata": {},
     "output_type": "display_data"
    }
   ],
   "source": [
    "import seaborn as sns\n",
    "import matplotlib.pyplot as plt\n",
    "\n",
    "# Boxplot\n",
    "sns.boxplot(x='Hour', y='Count', data=hour_counts_by_year)\n",
    "plt.title(\"Accident Counts by Hour\")\n",
    "plt.show()\n"
   ]
  },
  {
   "cell_type": "code",
   "execution_count": null,
   "id": "dc6b8ddc",
   "metadata": {},
   "outputs": [],
   "source": []
  }
 ],
 "metadata": {
  "kernelspec": {
   "display_name": "Python 3 (ipykernel)",
   "language": "python",
   "name": "python3"
  },
  "language_info": {
   "codemirror_mode": {
    "name": "ipython",
    "version": 3
   },
   "file_extension": ".py",
   "mimetype": "text/x-python",
   "name": "python",
   "nbconvert_exporter": "python",
   "pygments_lexer": "ipython3",
   "version": "3.11.7"
  }
 },
 "nbformat": 4,
 "nbformat_minor": 5
}
